{
 "cells": [
  {
   "cell_type": "markdown",
   "id": "55b55316",
   "metadata": {},
   "source": [
    "# Z-score"
   ]
  },
  {
   "cell_type": "markdown",
   "id": "a4fc99fe",
   "metadata": {},
   "source": [
    "# What is Z-score??\n",
    "\n",
    "\n",
    "Simply put, a z-score (also called a standard score) gives you an idea of how far from the mean a data point is. But more technically it’s a measure of how many standard deviations below or above the population mean a raw score is.\n",
    "\n",
    "A z-score can be placed on a normal distribution curve. Z-scores range from -3 standard deviations (which would fall to the far left of the normal distribution curve) up to +3 standard deviations (which would fall to the far right of the normal distribution curve). In order to use a z-score, you need to know the mean μ and also the population standard deviation σ.\n",
    "\n",
    "Z-scores are a way to compare results to a “normal” population. Results from tests or surveys have thousands of possible results and units; those results can often seem meaningless. For example, knowing that someone’s weight is 150 pounds might be good information, but if you want to compare it to the “average” person’s weight, looking at a vast table of data can be overwhelming (especially if some weights are recorded in kilograms). A z-score can tell you where that person’s weight is compared to the average population’s mean weight."
   ]
  },
  {
   "cell_type": "markdown",
   "id": "b9916f14",
   "metadata": {},
   "source": [
    "# Z_score Formula...\n",
    "\n",
    "z = (x – μ) / (σ / √n)"
   ]
  },
  {
   "cell_type": "markdown",
   "id": "16f25e31",
   "metadata": {},
   "source": [
    "How to Calculate a Z-Score?\n",
    "\n",
    "https://youtu.be/PKQzOzvixzs\n",
    "    \n"
   ]
  },
  {
   "cell_type": "markdown",
   "id": "ed3a13ca",
   "metadata": {},
   "source": [
    " "
   ]
  },
  {
   "cell_type": "markdown",
   "id": "2e6a0f5e",
   "metadata": {},
   "source": [
    "You take the SAT and score 1100. The mean score for the SAT is 1026 and the standard deviation is 209. How well did you score on the test compared to the average test taker?\n",
    "\n"
   ]
  },
  {
   "cell_type": "markdown",
   "id": "15bce380",
   "metadata": {},
   "source": [
    "1)  Write your X-value into the z-score equation. For this example question the X-value is your SAT score, 1100.\n",
    "\n",
    "z=((1100-μ)/σ)\n",
    "\n",
    "2. Put the mean, μ, into the z-score equation.\n",
    "\n",
    "z=((1100-1026)/σ)\n",
    "\n",
    "\n",
    "3.Write the standard deviation, σ into the z-score equation.\n",
    "\n",
    "z=((1100-1026)/209)"
   ]
  },
  {
   "cell_type": "markdown",
   "id": "a97878a3",
   "metadata": {},
   "source": [
    "Find the answer using a calculator:\n",
    "    \n",
    "    (1100 – 1026) / 209 = .354. This means that your score was .354 std devs above the mean.)"
   ]
  },
  {
   "cell_type": "markdown",
   "id": "82ef349f",
   "metadata": {},
   "source": [
    "(Optional) Look up your z-value in the z-table to see what percentage of test-takers scored below you. A z-score of .354 is .1368 + .5000* = .6368 or 63.68%."
   ]
  },
  {
   "cell_type": "markdown",
   "id": "f72b4544",
   "metadata": {},
   "source": [
    "# z Score Table \n",
    "\n",
    "http://users.stat.ufl.edu/~mripol/STA2023/Z-table.pdf"
   ]
  },
  {
   "cell_type": "code",
   "execution_count": 1,
   "id": "7d84caf7",
   "metadata": {},
   "outputs": [
    {
     "name": "stdout",
     "output_type": "stream",
     "text": [
      "\n",
      "arr1 :  [[20, 2, 7, 1, 34], [50, 12, 12, 34, 4]]\n",
      "\n",
      "arr2 :  [[50, 12, 12, 34, 4], [12, 11, 10, 34, 21]]\n",
      "\n",
      "Z-score for arr1 : \n",
      " [[-1. -1. -1. -1.  1.]\n",
      " [ 1.  1.  1.  1. -1.]]\n",
      "\n",
      "Z-score for arr1 : \n",
      " [[ 0.57251144 -0.85876716 -0.46118977 -0.93828264  1.68572813]\n",
      " [ 1.62005758 -0.61045648 -0.61045648  0.68089376 -1.08003838]]\n"
     ]
    }
   ],
   "source": [
    "import numpy as np\n",
    "from scipy import stats\n",
    "    \n",
    "arr1 = [[20, 2, 7, 1, 34],\n",
    "        [50, 12, 12, 34, 4]]\n",
    "  \n",
    "arr2 = [[50, 12, 12, 34, 4], \n",
    "        [12, 11, 10, 34, 21]]\n",
    "  \n",
    "print (\"\\narr1 : \", arr1)\n",
    "print (\"\\narr2 : \", arr2)\n",
    "  \n",
    "print (\"\\nZ-score for arr1 : \\n\", stats.zscore(arr1))\n",
    "print (\"\\nZ-score for arr1 : \\n\", stats.zscore(arr1, axis = 1))"
   ]
  },
  {
   "cell_type": "raw",
   "id": "b4ceb000",
   "metadata": {},
   "source": []
  }
 ],
 "metadata": {
  "kernelspec": {
   "display_name": "Python 3",
   "language": "python",
   "name": "python3"
  },
  "language_info": {
   "codemirror_mode": {
    "name": "ipython",
    "version": 3
   },
   "file_extension": ".py",
   "mimetype": "text/x-python",
   "name": "python",
   "nbconvert_exporter": "python",
   "pygments_lexer": "ipython3",
   "version": "3.6.10"
  }
 },
 "nbformat": 4,
 "nbformat_minor": 5
}
