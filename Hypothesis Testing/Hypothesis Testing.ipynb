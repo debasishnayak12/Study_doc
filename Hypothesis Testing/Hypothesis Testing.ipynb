{
 "cells": [
  {
   "cell_type": "markdown",
   "id": "ffde6e00",
   "metadata": {},
   "source": [
    "# Hypothesis Testing\n",
    "\n",
    "https://machinelearningmastery.com/statistical-hypothesis-tests/"
   ]
  },
  {
   "cell_type": "markdown",
   "id": "9e5b399d",
   "metadata": {},
   "source": [
    "Data alone is not interesting. It is the interpretation of the data that we are really interested in.\n",
    "\n",
    "In statistics, when we wish to start asking questions about the data and interpret the results, we use statistical methods that provide a confidence or likelihood about the answers. In general, this class of methods is called statistical hypothesis testing, or significance tests.\n",
    "\n",
    "The term “hypothesis” may make you think about science, where we investigate a hypothesis. This is along the right track.\n",
    "\n",
    "In statistics, a hypothesis test calculates some quantity under a given assumption. The result of the test allows us to interpret whether the assumption holds or whether the assumption has been violated.\n",
    "\n",
    "Two concrete examples that we will use a lot in machine learning are:\n",
    "\n",
    "A test that assumes that data has a normal distribution.\n",
    "A test that assumes that two samples were drawn from the same underlying population distribution.\n",
    "The assumption of a statistical test is called the null hypothesis, or hypothesis 0 (H0 for short). It is often called the default assumption, or the assumption that nothing has changed.\n",
    "\n",
    "A violation of the test’s assumption is often called the first hypothesis, hypothesis 1 or H1 for short. H1 is really a short hand for “some other hypothesis,” as all we know is that the evidence suggests that the H0 can be rejected.\n",
    "\n",
    "Hypothesis 0 (H0): Assumption of the test holds and is failed to be rejected at some level of significance.\n",
    "Hypothesis 1 (H1): Assumption of the test does not hold and is rejected at some level of significance.\n",
    "Before we can reject or fail to reject the null hypothesis, we must interpret the result of the test."
   ]
  },
  {
   "cell_type": "markdown",
   "id": "ea8f30ed",
   "metadata": {},
   "source": [
    "# Statistical Test Interpretation\n",
    "The results of a statistical hypothesis test must be interpreted for us to start making claims.\n",
    "\n",
    "This is a point that may cause a lot of confusion for beginners and experienced practitioners alike.\n",
    "\n",
    "There are two common forms that a result from a statistical hypothesis test may take, and they must be interpreted in different ways. They are the p-value and critical values."
   ]
  },
  {
   "cell_type": "markdown",
   "id": "a527bd49",
   "metadata": {},
   "source": [
    "# Interpret the p-value\n",
    "\n",
    "We describe a finding as statistically significant by interpreting the p-value.\n",
    "\n",
    "For example, we may perform a normality test on a data sample and find that it is unlikely that sample of data deviates from a Gaussian distribution, failing to reject the null hypothesis.\n",
    "\n",
    "A statistical hypothesis test may return a value called p or the p-value. This is a quantity that we can use to interpret or quantify the result of the test and either reject or fail to reject the null hypothesis. This is done by comparing the p-value to a threshold value chosen beforehand called the significance level.\n",
    "\n",
    "The significance level is often referred to by the Greek lower case letter alpha.\n",
    "\n",
    "A common value used for alpha is 5% or 0.05. A smaller alpha value suggests a more robust interpretation of the null hypothesis, such as 1% or 0.1%.\n",
    "\n",
    "The p-value is compared to the pre-chosen alpha value. A result is statistically significant when the p-value is less than alpha. This signifies a change was detected: that the default hypothesis can be rejected.\n",
    "\n",
    "If p-value > alpha: Fail to reject the null hypothesis (i.e. not significant result).\n",
    "If p-value <= alpha: Reject the null hypothesis (i.e. significant result).\n",
    "For example, if we were performing a test of whether a data sample was normal and we calculated a p-value of .07, we could state something like:\n",
    "\n",
    "The test found that the data sample was normal, failing to reject the null hypothesis at a 5% significance level.\n",
    "\n",
    "The significance level can be inverted by subtracting it from 1 to give a confidence level of the hypothesis given the observed sample data."
   ]
  },
  {
   "cell_type": "markdown",
   "id": "6d7a215e",
   "metadata": {},
   "source": [
    "# “Reject” vs “Failure to Reject”\n",
    "The p-value is probabilistic.\n",
    "\n",
    "This means that when we interpret the result of a statistical test, we do not know what is true or false, only what is likely.\n",
    "\n",
    "Rejecting the null hypothesis means that there is sufficient statistical evidence that the null hypothesis does not look likely. Otherwise, it means that there is not sufficient statistical evidence to reject the null hypothesis.\n",
    "\n",
    "We may think about the statistical test in terms of the dichotomy of rejecting and accepting the null hypothesis. The danger is that if we say that we “accept” the null hypothesis, the language suggests that the null hypothesis is true. Instead, it is safer to say that we “fail to reject” the null hypothesis, as in, there is insufficient statistical evidence to reject it.\n",
    "\n",
    "When reading “reject” vs “fail to reject” for the first time, it is confusing to beginners. You can think of it as “reject” vs “accept” in your mind, as long as you remind yourself that the result is probabilistic and that even an “accepted” null hypothesis still has a small probability of being wrong."
   ]
  },
  {
   "cell_type": "markdown",
   "id": "3f1e8688",
   "metadata": {},
   "source": [
    "# Common p-value Misinterpretations\n",
    "This section highlights some common misinterpretations of the p-value in the results of statistical tests."
   ]
  },
  {
   "cell_type": "markdown",
   "id": "48902238",
   "metadata": {},
   "source": [
    "# Errors in Statistical Tests\n",
    "The interpretation of a statistical hypothesis test is probabilistic.\n",
    "\n",
    "That means that the evidence of the test may suggest an outcome and be mistaken.\n",
    "\n",
    "For example, if alpha was 5%, it suggests that (at most) 1 time in 20 that the null hypothesis would be mistakenly rejected or failed to be rejected because of the statistical noise in the data sample.\n",
    "\n",
    "Given a small p-value (reject the null hypothesis) either means that the null hypothesis false (we got it right) or it is true and some rare and unlikely event has been observed (we made a mistake). If this type of error is made, it is called a false positive. We falsely believe the rejection of the null hypothesis.\n",
    "\n",
    "Alternately, given a large p-value (fail to reject the null hypothesis), it may mean that the null hypothesis is true (we got it right) or that the null hypothesis is false and some unlikely event occurred (we made a mistake). If this type of error is made, it is called a false negative. We falsely believe the null hypothesis or assumption of the statistical test.\n",
    "\n",
    "Each of these two types of error has a specific name.\n",
    "\n",
    "Type I Error: The incorrect rejection of a true null hypothesis or a false positive.\n",
    "Type II Error: The incorrect failure of rejection of a false null hypothesis or a false negative.\n",
    "All statistical hypothesis tests have a chance of making either of these types of errors. False findings or false disoveries are more than possible; they are probable.\n",
    "\n",
    "Ideally, we want to choose a significance level that minimizes the likelihood of one of these errors. E.g. a very small significance level. Although significance levels such as 0.05 and 0.01 are common in many fields of science, harder sciences, such as physics, are more aggressive.\n",
    "\n",
    "It is common to use a significance level of 3 * 10^-7 or 0.0000003, often referred to as 5-sigma. This means that the finding was due to chance with a probability of 1 in 3.5 million independent repeats of the experiments. To use a threshold like this may require a much large data sample.\n",
    "\n",
    "Nevertheless, these types of errors are always present and must be kept in mind when presenting and interpreting the results of statistical tests. It is also a reason why it is important to have findings independently verified."
   ]
  },
  {
   "cell_type": "markdown",
   "id": "2fc9104c",
   "metadata": {},
   "source": [
    "# https://machinelearningmastery.com/statistical-hypothesis-tests-in-python-cheat-sheet/"
   ]
  },
  {
   "cell_type": "code",
   "execution_count": null,
   "id": "8292472b",
   "metadata": {},
   "outputs": [],
   "source": []
  }
 ],
 "metadata": {
  "kernelspec": {
   "display_name": "Python 3",
   "language": "python",
   "name": "python3"
  },
  "language_info": {
   "codemirror_mode": {
    "name": "ipython",
    "version": 3
   },
   "file_extension": ".py",
   "mimetype": "text/x-python",
   "name": "python",
   "nbconvert_exporter": "python",
   "pygments_lexer": "ipython3",
   "version": "3.6.10"
  }
 },
 "nbformat": 4,
 "nbformat_minor": 5
}
