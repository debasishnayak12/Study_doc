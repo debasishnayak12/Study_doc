{
 "cells": [
  {
   "cell_type": "markdown",
   "id": "fcdbbbed",
   "metadata": {},
   "source": [
    "# Confidence Intervals"
   ]
  },
  {
   "cell_type": "markdown",
   "id": "371db8b0",
   "metadata": {},
   "source": [
    "In statistics, a confidence interval (CI) is a type of estimate computed from the statistics of the observed data. This gives a range of values for an unknown parameter (for example, a population mean). The interval has an associated confidence level that gives the probability with which an estimated interval will contain the true value of the parameter."
   ]
  },
  {
   "cell_type": "markdown",
   "id": "6450b0c3",
   "metadata": {},
   "source": [
    "# The confidence level is designated before examining the data. Most commonly, a 95% confidence level is used."
   ]
  },
  {
   "cell_type": "markdown",
   "id": "50a7bcef",
   "metadata": {},
   "source": [
    " "
   ]
  },
  {
   "cell_type": "markdown",
   "id": "6efbbd91",
   "metadata": {},
   "source": [
    "Suppose a dataset {\\displaystyle x_{1},\\ldots ,x_{n}}x_{1},\\ldots ,x_{n} is given, modeled as realization of random variables {\\displaystyle X_{1},\\ldots ,X_{n}}X_{1},\\ldots ,X_{n}. Let {\\displaystyle \\theta }\\theta  be the parameter of interest, and {\\displaystyle \\gamma }\\gamma  a number between 0 and 1. If there exist sample statistics {\\displaystyle L_{n}=g(X_{1},\\ldots ,X_{n})}{\\displaystyle L_{n}=g(X_{1},\\ldots ,X_{n})} and {\\displaystyle U_{n}=h(X_{1},\\ldots ,X_{n})}{\\displaystyle U_{n}=h(X_{1},\\ldots ,X_{n})} such that:\n",
    "\n",
    "{\\displaystyle P(L_{n}<\\theta <U_{n})=\\gamma }{\\displaystyle P(L_{n}<\\theta <U_{n})=\\gamma } for every value of {\\displaystyle \\theta }\\theta \n",
    "\n",
    "then {\\displaystyle (l_{n},u_{n})}{\\displaystyle (l_{n},u_{n})}, where {\\displaystyle l_{n}=g(x_{1},\\ldots ,x_{n})}{\\displaystyle l_{n}=g(x_{1},\\ldots ,x_{n})} and {\\displaystyle u_{n}=h(x_{1},\\ldots ,x_{n})}{\\displaystyle u_{n}=h(x_{1},\\ldots ,x_{n})}, is called a {\\displaystyle \\gamma \\times 100\\%}{\\displaystyle \\gamma \\times 100\\%} confidence interval for {\\displaystyle \\theta }\\theta . The number {\\displaystyle \\gamma }\\gamma  is called the confidence level.[1]"
   ]
  },
  {
   "cell_type": "code",
   "execution_count": 1,
   "id": "11d10106",
   "metadata": {},
   "outputs": [
    {
     "name": "stdout",
     "output_type": "stream",
     "text": [
      "50th percentile (median) = 0.750\n",
      "2.5th percentile = 0.741\n",
      "97.5th percentile = 0.757\n"
     ]
    }
   ],
   "source": [
    "# bootstrap confidence intervals\n",
    "from numpy.random import seed\n",
    "from numpy.random import rand\n",
    "from numpy.random import randint\n",
    "from numpy import mean\n",
    "from numpy import median\n",
    "from numpy import percentile\n",
    "# seed the random number generator\n",
    "seed(1)\n",
    "# generate dataset\n",
    "dataset = 0.5 + rand(1000) * 0.5\n",
    "# bootstrap\n",
    "scores = list()\n",
    "for _ in range(100):\n",
    "\t# bootstrap sample\n",
    "\tindices = randint(0, 1000, 1000)\n",
    "\tsample = dataset[indices]\n",
    "\t# calculate and store statistic\n",
    "\tstatistic = mean(sample)\n",
    "\tscores.append(statistic)\n",
    "print('50th percentile (median) = %.3f' % median(scores))\n",
    "# calculate 95% confidence intervals (100 - alpha)\n",
    "alpha = 5.0\n",
    "# calculate lower percentile (e.g. 2.5)\n",
    "lower_p = alpha / 2.0\n",
    "# retrieve observation at lower percentile\n",
    "lower = max(0.0, percentile(scores, lower_p))\n",
    "print('%.1fth percentile = %.3f' % (lower_p, lower))\n",
    "# calculate upper percentile (e.g. 97.5)\n",
    "upper_p = (100 - alpha) + (alpha / 2.0)\n",
    "# retrieve observation at upper percentile\n",
    "upper = min(1.0, percentile(scores, upper_p))\n",
    "print('%.1fth percentile = %.3f' % (upper_p, upper))"
   ]
  },
  {
   "cell_type": "markdown",
   "id": "de682686",
   "metadata": {},
   "source": [
    "We can then use these observations to make a claim about the sample distribution, such as:\n",
    "\n",
    "There is a 95% likelihood that the range 0.741 to 0.757 covers the true statistic mean."
   ]
  },
  {
   "cell_type": "code",
   "execution_count": null,
   "id": "d2d7a997",
   "metadata": {},
   "outputs": [],
   "source": []
  }
 ],
 "metadata": {
  "kernelspec": {
   "display_name": "Python 3",
   "language": "python",
   "name": "python3"
  },
  "language_info": {
   "codemirror_mode": {
    "name": "ipython",
    "version": 3
   },
   "file_extension": ".py",
   "mimetype": "text/x-python",
   "name": "python",
   "nbconvert_exporter": "python",
   "pygments_lexer": "ipython3",
   "version": "3.6.10"
  }
 },
 "nbformat": 4,
 "nbformat_minor": 5
}
